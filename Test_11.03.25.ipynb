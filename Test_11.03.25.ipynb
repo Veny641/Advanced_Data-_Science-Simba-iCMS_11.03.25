{
 "cells": [
  {
   "cell_type": "code",
   "execution_count": 17,
   "id": "0362b988-64e2-4b73-b26d-30ad8a28f50e",
   "metadata": {},
   "outputs": [],
   "source": [
    "justus = {\n",
    "    'fullname': 'Justus Kevin Maina',\n",
    "    'age': 30,\n",
    "    'country': 'Kenya',\n",
    "    'Marital status': 'complicated'\n",
    "}"
   ]
  },
  {
   "cell_type": "code",
   "execution_count": 19,
   "id": "514f73f1-9c97-4fba-b0b0-4f2018c9572b",
   "metadata": {},
   "outputs": [
    {
     "data": {
      "text/plain": [
       "'Justus Kevin Maina'"
      ]
     },
     "execution_count": 19,
     "metadata": {},
     "output_type": "execute_result"
    }
   ],
   "source": [
    "justus['fullname']"
   ]
  },
  {
   "cell_type": "code",
   "execution_count": 21,
   "id": "c1600e80-9a11-47ad-9fdd-e87340e8bcd4",
   "metadata": {},
   "outputs": [
    {
     "data": {
      "text/plain": [
       "30"
      ]
     },
     "execution_count": 21,
     "metadata": {},
     "output_type": "execute_result"
    }
   ],
   "source": [
    "justus['age']"
   ]
  },
  {
   "cell_type": "code",
   "execution_count": null,
   "id": "427397a4-1878-4f07-8d18-16c67ceba7c9",
   "metadata": {},
   "outputs": [],
   "source": []
  }
 ],
 "metadata": {
  "kernelspec": {
   "display_name": "Python 3 (ipykernel)",
   "language": "python",
   "name": "python3"
  },
  "language_info": {
   "codemirror_mode": {
    "name": "ipython",
    "version": 3
   },
   "file_extension": ".py",
   "mimetype": "text/x-python",
   "name": "python",
   "nbconvert_exporter": "python",
   "pygments_lexer": "ipython3",
   "version": "3.12.4"
  }
 },
 "nbformat": 4,
 "nbformat_minor": 5
}
